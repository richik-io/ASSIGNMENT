{
 "cells": [
  {
   "cell_type": "markdown",
   "metadata": {},
   "source": [
    "<h3>1.\tDjango signals execute synchronously by default. In Django, signal handler and sender are executed synchronously on the same thread. That is all blocking further execution until all handlers are completed.</h3>"
   ]
  },
  {
   "cell_type": "code",
   "execution_count": 20,
   "metadata": {},
   "outputs": [
    {
     "name": "stdout",
     "output_type": "stream",
     "text": [
      "Sending signal...\n",
      "Handler started\n",
      "Waiting 2 secs\n",
      "Handler finished\n",
      "Signal sent!\n"
     ]
    }
   ],
   "source": [
    "from django.dispatch import Signal, receiver\n",
    "import time\n",
    "\n",
    "signal = Signal()\n",
    "\n",
    "@receiver(signal)\n",
    "def my_handler(sender, **kwargs):  \n",
    "    print(\"Handler started\\nWaiting 2 secs\")\n",
    "    time.sleep(2)  \n",
    "    print(\"Handler finished\")\n",
    "\n",
    "# Sending the signal\n",
    "print(\"Sending signal...\")\n",
    "signal.send(sender=None)  \n",
    "\n",
    "print(\"Signal sent!\")\n"
   ]
  },
  {
   "cell_type": "markdown",
   "metadata": {},
   "source": [
    "<h3>2.\tSignals sent by Django operate within the thread that sent them. This implies that the code handling the signal executes directly there, within the same thread, whenever a signal is activated. The signal handler will halt all other thread activity until it completes.</h3>"
   ]
  },
  {
   "cell_type": "code",
   "execution_count": 21,
   "metadata": {},
   "outputs": [
    {
     "name": "stdout",
     "output_type": "stream",
     "text": [
      "Sending signal from thread\n",
      "Handler started in thread.\n",
      "Handler finished\n",
      "Signal sent!\n"
     ]
    }
   ],
   "source": [
    "import threading\n",
    "from django.dispatch import Signal, receiver\n",
    "import time\n",
    "\n",
    "signal = Signal()\n",
    "\n",
    "@receiver(signal)\n",
    "def my_handler(sender, **kwargs):\n",
    "    print(\"Handler started in thread.\")\n",
    "    time.sleep(3)\n",
    "    print(\"Handler finished\")\n",
    "\n",
    "def send_signal():\n",
    "    print(\"Sending signal from thread\")\n",
    "    signal.send(sender=None)\n",
    "    print(\"Signal sent!\")\n",
    "\n",
    "# Start a new thread to send the signal\n",
    "thread = threading.Thread(target=send_signal)\n",
    "thread.start()\n",
    "thread.join()  # Wait for the thread to finish\n"
   ]
  },
  {
   "cell_type": "markdown",
   "metadata": {},
   "source": [
    "3. <h4>Django signals run in the same database transaction as the caller. This means that any changes made to the database within the signal handler will be part of the same transaction and will either be committed or rolled back together with the changes made by the caller. If any error occurs during the execution  the entire transaction will be rolled back.</h4>"
   ]
  },
  {
   "cell_type": "code",
   "execution_count": 24,
   "metadata": {},
   "outputs": [
    {
     "name": "stdout",
     "output_type": "stream",
     "text": [
      "User created successfully.\n"
     ]
    }
   ],
   "source": [
    "from django.db import transaction\n",
    "from django.db import connection\n",
    "from django.dispatch import Signal, receiver\n",
    "\n",
    "\n",
    "user_created = Signal()\n",
    "\n",
    "@receiver(user_created)\n",
    "def log_user_creation(sender, **kwargs):\n",
    "    \n",
    "    with connection.cursor() as cursor:\n",
    "        cursor.execute(\"INSERT INTO logs (message) VALUES (%s)\", ['User created'])\n",
    "\n",
    "\n",
    "def create_user(name):\n",
    "    with transaction.atomic():  \n",
    "        \n",
    "        with connection.cursor() as cursor:\n",
    "            cursor.execute(\"INSERT INTO users (name) VALUES (%s)\", [name])\n",
    "\n",
    "        \n",
    "        user_created.send(sender=name)\n",
    "\n",
    "try:\n",
    "    create_user(\"DSAKMD SDAD\")\n",
    "    print(\"User created successfully.\")\n",
    "except Exception as e:\n",
    "    print(f\"Error occurred: {e}\")\n"
   ]
  },
  {
   "cell_type": "code",
   "execution_count": 25,
   "metadata": {},
   "outputs": [
    {
     "name": "stdout",
     "output_type": "stream",
     "text": [
      "{'length': 6}\n",
      "{'width': 8}\n"
     ]
    }
   ],
   "source": [
    "class Rectangle:\n",
    "    def __init__(self, length: int, width: int):\n",
    "        self.length = length\n",
    "        self.width = width\n",
    "\n",
    "    def __iter__(self):\n",
    "        yield {'length': self.length}\n",
    "        yield {'width': self.width}\n",
    "rect = Rectangle(6, 8)\n",
    "for dim in rect:\n",
    "    print(dim)\n"
   ]
  }
 ],
 "metadata": {
  "kernelspec": {
   "display_name": ".venv",
   "language": "python",
   "name": "python3"
  },
  "language_info": {
   "codemirror_mode": {
    "name": "ipython",
    "version": 3
   },
   "file_extension": ".py",
   "mimetype": "text/x-python",
   "name": "python",
   "nbconvert_exporter": "python",
   "pygments_lexer": "ipython3",
   "version": "3.8.10"
  }
 },
 "nbformat": 4,
 "nbformat_minor": 2
}
